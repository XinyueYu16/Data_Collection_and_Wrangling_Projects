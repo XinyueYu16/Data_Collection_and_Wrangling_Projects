{
 "cells": [
  {
   "cell_type": "markdown",
   "metadata": {},
   "source": [
    "# Wrangle Report\n",
    "\n",
    "\n",
    "## Introduction\n",
    "This report briefly describes my wrangling efforts related to the three datasets of: WeRateDogs Tweet Archive, Predictions made on WeRateDogs tweets, and like and retweets counts scraped from Tweepy.\n",
    "\n",
    "\n",
    "## Data Assesment\n",
    "### Quality Issues\n",
    "Before wrangling, I assessed the quality and tidiness issues for these three datasets.\n",
    "\n",
    "For __quality issues__, I listed 10 points as follows, consisting completeness, validity and consistency issues.\n",
    "\n",
    "#### Completeness Issues\n",
    "\n",
    "__Archive Data__\n",
    "- Thousands of null values in columns of `in_reply_to_status_id`, `in_reply_to_user_id`, `retweeted_status_id`, `retweeted_status_user_id`, `retweeted_status_timestamp`;\n",
    "- The last 5 columns contains many empty values, but they are shown in strings of 'None';\n",
    "- Duplicates in `expanded_urls` column;\n",
    "    \n",
    "__Prediction Data__\n",
    "- Duplicates in  `jpg_url` column;\n",
    "\n",
    "#### Validity issues\n",
    "__Archive Data__\n",
    "- The `name` column contain 'a's as name;\n",
    "- The values of `source` column contain extra tag information of scraped links (i.e. <a href = ...);\n",
    "- The `rating_denominator` column contains denominators that are not 10;\n",
    "- The text columns contain URLs;\n",
    "\n",
    "#### Accuracy issues\n",
    "__Archive Data__\n",
    "- The `rating_numerator` column contains values that are way larger than the denominator;\n",
    "                                                                                        \n",
    "#### Consistency issues\n",
    "__Prediction Data__\n",
    "- Lowercase and uppercase spelling are mixed in predictions.\n",
    "\n",
    "### Tidiness Issues\n",
    "For tidiness issues, I listed 2 points: \n",
    "                                                                                        \n",
    "__Archive Data__\n",
    "- The retweet and in-reply statement shouldn't be in the same table with the dog information;\n",
    "- The last 4 columns represent 4 values for a variable indicating the dog's age.\n"
   ]
  },
  {
   "cell_type": "markdown",
   "metadata": {},
   "source": [
    "## Data Wrangling\n",
    "During the data wrangling part, I delt with the quality and tidiness issues one by one, the logic and processes of wrangling are shown as follows.\n",
    "### Quality Issues\n",
    "#### Completeness Issues\n",
    "- Empty values: \n",
    "    - For columns that contain too many empty values and irrelevant to the analysis like `in_reply_to_status_id` etc., I dropped the columns entirely;\n",
    "    - For the last 5 columns in archive data, I firstly transformed the strings of 'None's to NaN, and then leave them there. Because we do not have enough information to fill those columns and it would be a waste of information if we dropped those empty rows entirely.\n",
    "    \n",
    "- Duplicated values:\n",
    "    - For duplicated values like values in `archive.expanded_urls` and `pred.jpg_url` columns, I dropped the duplicated rows.\n",
    "    \n",
    "#### Validity Issues\n",
    "- For validity issues, I did following wrangling efforts:\n",
    "    - Transformed the 'a' in `name` to NaN;\n",
    "    - Extracted texts for `source` column and cleaned the URLs in `text` column using RegEx;\n",
    "    - Filtered out rows with `rating_denominator` values that are not 10;\n",
    "\n",
    "#### Accuracy Issues\n",
    "- Filtered out rows with `rating_numerator` values that are way larger than the denominator, the criteria was `rating_numerator` values need to be less than or equal to 15;\n",
    "\n",
    "#### Consistency Issues\n",
    "- For consistency the simplicity in future data analysis, I changed all the dog types in `pred` to lowercase spellings.\n",
    "\n",
    "### Tidiness Issues\n",
    "- Since the last 4 columns of `archive dara` are representing 4 values for a variable indicating the dog's age, I turned these 4 columns into one column called `growth_period`;\n",
    "\n",
    "- To maintain different observation units in their separate tables, I divided the `tweet archive` into two tables names `dog_rating` and `tweet_info`;\n",
    "\n",
    "- Further more, I inner joined `tweet_info` with `like and retweet count` of tweets on `tweet_id`, since these two tables are describing the same observational unit. Finally, this dataset was stored as `twitter_archive_master`."
   ]
  },
  {
   "cell_type": "markdown",
   "metadata": {},
   "source": [
    "## Conclusion of Data Wrangling\n",
    "After wrangling, I saved these data into three files, they are:\n",
    "- twitter_archive_master: storing information about each tweet itself;\n",
    "- dog-rating: storing description and ratings about each dog; \n",
    "- pred: storing predictions made on the dog-ratings.\n"
   ]
  }
 ],
 "metadata": {
  "kernelspec": {
   "display_name": "Python 3",
   "language": "python",
   "name": "python3"
  },
  "language_info": {
   "codemirror_mode": {
    "name": "ipython",
    "version": 3
   },
   "file_extension": ".py",
   "mimetype": "text/x-python",
   "name": "python",
   "nbconvert_exporter": "python",
   "pygments_lexer": "ipython3",
   "version": "3.7.6"
  },
  "toc": {
   "base_numbering": 1,
   "nav_menu": {},
   "number_sections": true,
   "sideBar": true,
   "skip_h1_title": false,
   "title_cell": "Table of Contents",
   "title_sidebar": "Contents",
   "toc_cell": false,
   "toc_position": {},
   "toc_section_display": true,
   "toc_window_display": false
  }
 },
 "nbformat": 4,
 "nbformat_minor": 4
}
